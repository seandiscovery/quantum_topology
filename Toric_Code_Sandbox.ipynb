{
 "cells": [
  {
   "cell_type": "markdown",
   "metadata": {},
   "source": [
    "# Toric Code Sandbox"
   ]
  },
  {
   "cell_type": "code",
   "execution_count": 1,
   "metadata": {},
   "outputs": [],
   "source": [
    "from pyquil import Program\n",
    "from pyquil.gates import *\n",
    "from pyquil.quil import address_qubits\n",
    "from pyquil.quilatom import QubitPlaceholder\n",
    "from pyquil.api import QVMConnection\n",
    "from pyquil.api import WavefunctionSimulator\n",
    "\n",
    "import networkx as nx \n",
    "from toric_code import * \n",
    "\n",
    "from matplotlib import rc \n",
    "rc('text', usetex = True)\n",
    "%matplotlib inline"
   ]
  },
  {
   "cell_type": "markdown",
   "metadata": {},
   "source": [
    "Sandbox for testing our implementation of the toric code. This notebook is not guaranteed to be free of errors, nor are namespace conflicts guaranteed not to exist. Included for completeness."
   ]
  },
  {
   "cell_type": "markdown",
   "metadata": {},
   "source": [
    "## Testing Syndrome Extraction "
   ]
  },
  {
   "cell_type": "markdown",
   "metadata": {},
   "source": [
    "Following the syndrom extraction protocol presented in Wang et al. (2009) "
   ]
  },
  {
   "cell_type": "code",
   "execution_count": null,
   "metadata": {},
   "outputs": [],
   "source": [
    "def test_Z_syndrome_extraction(): \n",
    "    \"\"\" Tests the Z syndrome extraction protocol. \n",
    "    \"\"\"\n",
    "    pq = Program() \n",
    "    ro = pq.declare('ro', 'BIT', 1)\n",
    "    \n",
    "    # Initialize the ancilla\n",
    "    ancilla = QubitPlaceholder() # ==> ancilla = |0> \n",
    "    \n",
    "    # Initialize the data qubits \n",
    "    # We'll use the state |0000> + |1111>, which \n",
    "    # is a +1 eigenstate of the X stabilizer generator \n",
    "    north = QubitPlaceholder()\n",
    "    south = QubitPlaceholder() \n",
    "    east = QubitPlaceholder() \n",
    "    west = QubitPlaceholder()\n",
    "    \n",
    "    pq += H(north)\n",
    "    pq += CNOT(north, south)\n",
    "    pq += CNOT(north, east) \n",
    "    pq += CNOT(north, west)\n",
    "    \n",
    "    register = [ancilla, north, south, east, west]\n",
    "    \n",
    "    # Errors, if appropriate \n",
    "    #pq += X(north) # ==> Error detected \n",
    "    #pq += X(east) # ==> Errors not detected; state still in codespace \n",
    "        \n",
    "    # Perform the circuit \n",
    "    pq += CNOT(north, ancilla)\n",
    "    pq += CNOT(west, ancilla)\n",
    "    pq += CNOT(east, ancilla)\n",
    "    pq += CNOT(south, ancilla)\n",
    "    \n",
    "    # Measure in the Z basis \n",
    "    pq += MEASURE(ancilla, ro[0])\n",
    "    return pq "
   ]
  },
  {
   "cell_type": "code",
   "execution_count": null,
   "metadata": {},
   "outputs": [],
   "source": [
    "qvm = QVMConnection()\n",
    "pq = test_Z_syndrome_extraction()\n",
    "pq = address_qubits(pq)\n",
    "wf_sim = WavefunctionSimulator()\n",
    "wavefunction = wf_sim.wavefunction(pq)\n",
    "print(wavefunction)\n",
    "\n",
    "results = qvm.run(pq, trials=10)\n",
    "print(results)"
   ]
  },
  {
   "cell_type": "code",
   "execution_count": 5,
   "metadata": {},
   "outputs": [],
   "source": [
    "def test_X_syndrome_extraction(): \n",
    "    \"\"\" Tests the X syndrome extraction protocol. \n",
    "    \"\"\"\n",
    "    pq = Program() \n",
    "    ro = pq.declare('ro', 'BIT', 1)\n",
    "    \n",
    "    # Initialize the ancilla\n",
    "    ancilla = QubitPlaceholder()\n",
    "    pq += H(ancilla) # ==> ancilla = |+> \n",
    "    \n",
    "    # Initialize the data qubits \n",
    "    # We'll use the state |0000> + |1111>, which \n",
    "    # is a +1 eigenstate of the X stabilizer generator \n",
    "    north = QubitPlaceholder()\n",
    "    south = QubitPlaceholder() \n",
    "    east = QubitPlaceholder() \n",
    "    west = QubitPlaceholder()\n",
    "    \n",
    "    pq += H(north)\n",
    "    pq += CNOT(north, south)\n",
    "    pq += CNOT(north, east) \n",
    "    pq += CNOT(north, west)\n",
    "    \n",
    "    register = [north, south, east, west]\n",
    "    \n",
    "    # Errors, if appropriate \n",
    "    pq += Z(north) # ==> Error detected \n",
    "    #pq += Z(east) # ==> Errors not detected; state still in codespace \n",
    "        \n",
    "    # Perform the circuit \n",
    "    pq += CNOT(ancilla, north)\n",
    "    pq += CNOT(ancilla, west)\n",
    "    pq += CNOT(ancilla, east)\n",
    "    pq += CNOT(ancilla, south)\n",
    "    \n",
    "    # Measure in the X basis \n",
    "    pq += H(ancilla)\n",
    "    pq += MEASURE(ancilla, ro[0])\n",
    "    return pq "
   ]
  },
  {
   "cell_type": "code",
   "execution_count": 7,
   "metadata": {},
   "outputs": [
    {
     "name": "stdout",
     "output_type": "stream",
     "text": [
      "(0.7071067812+0j)|00001> + (-0.7071067812+0j)|11111>\n",
      "1\n"
     ]
    }
   ],
   "source": [
    "qvm = QVMConnection()\n",
    "pq = test_X_syndrome_extraction()\n",
    "\n",
    "pq = address_qubits(pq)\n",
    "wf_sim = WavefunctionSimulator()\n",
    "wavefunction = wf_sim.wavefunction(pq)\n",
    "print(wavefunction)\n",
    "\n",
    "results = qvm.run(pq, trials=1)\n",
    "print(results[0][0])"
   ]
  },
  {
   "cell_type": "markdown",
   "metadata": {},
   "source": [
    "### Test the syndrome extraction functions for the code "
   ]
  },
  {
   "cell_type": "code",
   "execution_count": 15,
   "metadata": {},
   "outputs": [
    {
     "name": "stdout",
     "output_type": "stream",
     "text": [
      "H 0\n",
      "CNOT 0 1\n",
      "CNOT 0 2\n",
      "CNOT 0 3\n",
      "Z 2\n",
      "DECLARE ro BIT[1]\n",
      "H 4\n",
      "CNOT 4 0\n",
      "CNOT 4 3\n",
      "CNOT 4 2\n",
      "CNOT 4 1\n",
      "H 4\n",
      "MEASURE 4 ro[0]\n",
      "\n",
      "[[1], [1], [1], [1], [1], [1], [1], [1], [1], [1]]\n"
     ]
    }
   ],
   "source": [
    "initialize = Program() \n",
    "north = QubitPlaceholder()\n",
    "south = QubitPlaceholder() \n",
    "east = QubitPlaceholder() \n",
    "west = QubitPlaceholder()\n",
    "# Construct a +1 eigenstate of the stabilizer generators \n",
    "initialize += H(north)\n",
    "initialize += CNOT(north, south)\n",
    "initialize += CNOT(north, east) \n",
    "initialize += CNOT(north, west)\n",
    "# Add a single phase flip error \n",
    "initialize += Z(east) # ==> Catches this error! \n",
    "# Initialize ancilla to |0> state \n",
    "ancilla = QubitPlaceholder()\n",
    "# Complete the syndrome extraction program\n",
    "qubits = [ancilla, north, west, east, south]\n",
    "syndrome = initialize + X_syndrome_extraction(qubits)\n",
    "\n",
    "# Run the program to obtain the syndrome\n",
    "qvm = QVMConnection()\n",
    "syndrome = address_qubits(syndrome)\n",
    "print(syndrome)\n",
    "result = qvm.run(syndrome, trials=10)\n",
    "print(result)"
   ]
  },
  {
   "cell_type": "markdown",
   "metadata": {},
   "source": [
    "I keep getting errors if I try to name unique memory regions in the syndrome_extraction functions. For now, I'll declare a single bit of classical memory labeled ``'ro'``; it will be overwritten each time we run the syndrome_extraction functions. However, I don't anticipate that this will be too much of a problem, as we can simply immediately save the values stored at ``ro[0]`` elsewhere (not ideal, but it'll work for now). \n",
    "\n",
    "Proposed syndrome extraction flow: Set up initial state (e.g., eigenstate of stabilizer generators) --> Apply error model (independent bit or phase flip), NOTE that this must occur before we build the PyQuil program, to ensure that the errors are consistent across our syndrome extractions --> Construct syndrome extraction program, add to initialization + error program --> Identify stabilizer generator if a -1 eigenvalue is returned (that is, if ancilla = |1>)\n",
    "\n",
    "Some questions: \n",
    "\n",
    "- Can we add the syndrome extraction program to the initialization + error program, without affecting other states? (<-- answer to this question should be YES) \n",
    "\n",
    "- How do we identify where the error has occured, for the MWPM algorithm? "
   ]
  },
  {
   "cell_type": "markdown",
   "metadata": {},
   "source": [
    "### Testing syndrome extraction for two plaquettes on the primal graph "
   ]
  },
  {
   "cell_type": "code",
   "execution_count": 32,
   "metadata": {},
   "outputs": [
    {
     "name": "stdout",
     "output_type": "stream",
     "text": [
      "(0.5+0j)|0000000> + (-0.5+0j)|0001111> + (-0.5+0j)|1110100> + (0.5+0j)|1111011>\n",
      "[[1], [1], [1], [1], [1], [1], [1], [1], [1], [1]]\n",
      "[[1], [1], [1], [1], [1], [1], [1], [1], [1], [1]]\n"
     ]
    }
   ],
   "source": [
    "# Let's entangle the qubits (7 total) acted on by two adjacent X stabilizers, \n",
    "# such that the qubits are +1 eigenstates of both operators \n",
    "pq_init = Program() \n",
    "# Stabilizer 1 qubits\n",
    "north_1 = QubitPlaceholder()\n",
    "south_1 = QubitPlaceholder() \n",
    "east_1_2 = QubitPlaceholder() # SHARED by both stabilizers! \n",
    "west_1 = QubitPlaceholder()\n",
    "# Stabilizer 2 qubits \n",
    "north_2 = QubitPlaceholder()\n",
    "south_2 = QubitPlaceholder() \n",
    "west_2 = QubitPlaceholder()\n",
    "\n",
    "# Construct initial state as a +1 eigenstate of both stabilizers \n",
    "pq_init += H(north_1)\n",
    "pq_init += CNOT(north_1, south_1)\n",
    "pq_init += CNOT(north_1, east_1_2)\n",
    "pq_init += CNOT(north_1, west_1)\n",
    "\n",
    "pq_init += H(north_2)\n",
    "pq_init += CNOT(north_2, south_2)\n",
    "pq_init += CNOT(north_2, east_1_2)\n",
    "pq_init += CNOT(north_2, west_2)\n",
    "\n",
    "# ERRORS, if necessary \n",
    "# Stabilizer 1 \n",
    "pq_init += Z(north_1)\n",
    "# Stabilizer 2 \n",
    "pq_init += Z(north_2)\n",
    "\n",
    "# Syndrome extraction for stabilizer 1 \n",
    "ancilla_1 = QubitPlaceholder() \n",
    "qubits_1 = [ancilla_1, north_1, west_1, east_1_2, south_1]\n",
    "syndrome_1 = pq_init + X_syndrome_extraction(qubits_1)\n",
    "\n",
    "# Syndrome extraction for stabilizer 2 \n",
    "ancilla_2 = QubitPlaceholder()\n",
    "qubits_2 = [ancilla_2, north_2, west_2, east_1_2, south_2]\n",
    "syndrome_2 = pq_init + X_syndrome_extraction(qubits_2)\n",
    "\n",
    "qvm = QVMConnection()\n",
    "# Address qubits, as necessary \n",
    "pq_init = address_qubits(pq_init)\n",
    "syndrome_1 = address_qubits(syndrome_1)\n",
    "syndrome_2 = address_qubits(syndrome_2) \n",
    "\n",
    "wf_sim = WavefunctionSimulator()\n",
    "wavefunction = wf_sim.wavefunction(pq_init)\n",
    "print(wavefunction) # NOTE that wavefunction returned is indeed a +1 eigenstate of the operators! \n",
    "\n",
    "result_1 = qvm.run(syndrome_1, trials=10)\n",
    "result_2 = qvm.run(syndrome_2, trials=10)\n",
    "print(result_1)\n",
    "print(result_2)"
   ]
  },
  {
   "cell_type": "markdown",
   "metadata": {},
   "source": [
    "### Test selecting edges from the graph for bit/phase flip with probability p "
   ]
  },
  {
   "cell_type": "code",
   "execution_count": 5,
   "metadata": {},
   "outputs": [
    {
     "name": "stdout",
     "output_type": "stream",
     "text": [
      "{((0, 0), (1, 0))}\n"
     ]
    }
   ],
   "source": [
    "def weighted_flip(p): \n",
    "    flip = np.random.random()\n",
    "    if flip < p: \n",
    "        return 1\n",
    "    else: \n",
    "        return 0\n",
    "    \n",
    "# Let's test that this does indeed select qubits for flip with probability p\n",
    "primal, dual, distance = construct_toric_code(3)\n",
    "p = 0.1\n",
    "bit_flips = set() \n",
    "for edge in dual.edges: \n",
    "    if weighted_flip(p):\n",
    "        bit_flips.add(edge)\n",
    "print(bit_flips) # Looks like it works! "
   ]
  },
  {
   "cell_type": "code",
   "execution_count": 6,
   "metadata": {},
   "outputs": [],
   "source": [
    "# Now, let's make sure we can actually flip the necessary qubits \n",
    "dual_pq = Program()\n",
    "ro = dual_pq.declare(\"ro\", \"BIT\", 1)\n",
    "for d_edge in dual.edges: \n",
    "    if d_edge in bit_flips: \n",
    "        dual_pq += X(dual.edges[d_edge][\"data_qubit\"])\n",
    "dual_pq += MEASURE(dual.edges[((0,0), (2,0))][\"data_qubit\"], ro[0])"
   ]
  },
  {
   "cell_type": "code",
   "execution_count": 8,
   "metadata": {},
   "outputs": [
    {
     "name": "stdout",
     "output_type": "stream",
     "text": [
      "[[0]]\n"
     ]
    }
   ],
   "source": [
    "qvm = QVMConnection() \n",
    "dual_pq = address_qubits(dual_pq)\n",
    "test_result = qvm.run(dual_pq)\n",
    "print(test_result)"
   ]
  },
  {
   "cell_type": "code",
   "execution_count": 18,
   "metadata": {},
   "outputs": [
    {
     "name": "stdout",
     "output_type": "stream",
     "text": [
      "(0, 0)\n",
      "(0, 1)\n",
      "(0, 2)\n",
      "(1, 0)\n",
      "(1, 1)\n",
      "(1, 2)\n",
      "(2, 0)\n",
      "(2, 1)\n",
      "(2, 2)\n"
     ]
    }
   ],
   "source": [
    "neighbor_test = primal.edges(nbunch=(0,0))\n",
    "for edge in neighbor_test: \n",
    "    qubit = primal.edges[edge][\"data_qubit\"]\n",
    "\n",
    "for p_node in primal.nodes: \n",
    "    print(p_node)"
   ]
  },
  {
   "cell_type": "markdown",
   "metadata": {},
   "source": [
    "### Testing toric_error_identification function"
   ]
  },
  {
   "cell_type": "code",
   "execution_count": 2,
   "metadata": {},
   "outputs": [
    {
     "name": "stdout",
     "output_type": "stream",
     "text": [
      "[(0, 1), (1, 0), (1, 1), (2, 2)]\n",
      "[(2, 1), (2, 2)]\n"
     ]
    }
   ],
   "source": [
    "primal_test, dual_test, distance_test = construct_toric_code(3)\n",
    "bad_p_nodes, bad_d_nodes = toric_error_id(primal_test, dual_test, p=0.1)\n",
    "print(bad_p_nodes)\n",
    "print(bad_d_nodes)"
   ]
  },
  {
   "cell_type": "markdown",
   "metadata": {},
   "source": [
    "### Preparing a +1 eigenstate of the stabilizer operators"
   ]
  },
  {
   "cell_type": "code",
   "execution_count": 6,
   "metadata": {},
   "outputs": [
    {
     "name": "stdout",
     "output_type": "stream",
     "text": [
      "[((0, 0), (1, 0)), ((0, 0), (0, 1)), ((0, 0), (2, 0)), ((0, 0), (0, 2)), ((0, 1), (1, 1)), ((0, 1), (0, 2)), ((0, 1), (2, 1)), ((0, 2), (1, 2)), ((0, 2), (2, 2)), ((1, 0), (2, 0)), ((1, 0), (1, 1)), ((1, 0), (1, 2)), ((1, 1), (2, 1)), ((1, 1), (1, 2)), ((1, 2), (2, 2)), ((2, 0), (2, 1)), ((2, 0), (2, 2)), ((2, 1), (2, 2))]\n",
      "<class 'pyquil.quilatom.QubitPlaceholder'>\n"
     ]
    }
   ],
   "source": [
    "# Now, we need to prepare a +1 eigenstate of the stabilizers, given the primal graph above\n",
    "print(primal.edges)\n",
    "edge_test = ((0, 0), (0, 1))\n",
    "q_test = primal.edges[edge_test]['data_qubit']\n",
    "print(type(q_test)) # => QubitPlaceholder() "
   ]
  },
  {
   "cell_type": "code",
   "execution_count": 12,
   "metadata": {},
   "outputs": [
    {
     "name": "stdout",
     "output_type": "stream",
     "text": [
      "18\n",
      "{'north': ((0, 0), (1, 0)), 'west': ((0, 0), (0, 1)), 'south': ((0, 1), (1, 1)), 'east': ((1, 0), (1, 1))}\n",
      "{'north': ((0, 1), (1, 1)), 'west': ((0, 1), (0, 2)), 'south': ((0, 2), (1, 2)), 'east': ((1, 1), (1, 2))}\n",
      "{'north': ((1, 0), (2, 0)), 'west': ((1, 0), (1, 1)), 'south': ((1, 1), (2, 1)), 'east': ((2, 0), (2, 1))}\n",
      "{'north': ((1, 1), (2, 1)), 'west': ((1, 1), (1, 2)), 'south': ((1, 2), (2, 2)), 'east': ((2, 1), (2, 2))}\n",
      "(0.25+0j)|000000000000> + (0.25+0j)|000000001011> + (0.25+0j)|000001110100> + (-0.25+0j)|000001111111> + (0.25+0j)|001010000011> + (0.25+0j)|001010001000> + (-0.25+0j)|001011110111> + (0.25+0j)|001011111100> + (0.25+0j)|110100110100> + (-0.25+0j)|110100111111> + (0.25+0j)|110101000000> + (0.25+0j)|110101001011> + (0.25+0j)|111110110111> + (-0.25+0j)|111110111100> + (-0.25+0j)|111111000011> + (-0.25+0j)|111111001000>\n"
     ]
    }
   ],
   "source": [
    "# Let's test my torus traversal algorithm to make sure it produces \n",
    "# the correct initial state \n",
    "L = 3\n",
    "state_init = Program()\n",
    "edges = primal.edges\n",
    "\n",
    "print(len(list(edges)))\n",
    "\n",
    "for i in range(L - 1):\n",
    "    for j in range(L - 1):\n",
    "        local_edges = {}\n",
    "        local_edges[\"north\"] = ((i, j), (i + 1, j))\n",
    "        local_edges[\"west\"] = ((i, j), (i, j + 1))\n",
    "        local_edges[\"south\"] = ((i, j + 1), (i + 1, j + 1))\n",
    "        local_edges[\"east\"] = ((i + 1, j), (i + 1, j + 1))\n",
    "        \n",
    "        print(local_edges)\n",
    "        \n",
    "        state_init += H(edges[local_edges[\"north\"]][\"data_qubit\"])        \n",
    "        state_init += CNOT(edges[local_edges[\"north\"]][\"data_qubit\"], edges[local_edges[\"west\"]][\"data_qubit\"])\n",
    "        state_init += CNOT(edges[local_edges[\"north\"]][\"data_qubit\"], edges[local_edges[\"south\"]][\"data_qubit\"])\n",
    "        state_init += CNOT(edges[local_edges[\"north\"]][\"data_qubit\"], edges[local_edges[\"east\"]][\"data_qubit\"])\n",
    "        \n",
    "\n",
    "\n",
    "qvm = QVMConnection() \n",
    "state_init = address_qubits(state_init)\n",
    "wf_sim = WavefunctionSimulator()\n",
    "wavefunction = wf_sim.wavefunction(state_init)\n",
    "print(wavefunction) "
   ]
  },
  {
   "cell_type": "markdown",
   "metadata": {},
   "source": [
    "## New Method of Constructing Initial State"
   ]
  },
  {
   "cell_type": "markdown",
   "metadata": {},
   "source": [
    "Instead of trying to find the correct state by hand, I want to try following the example of Fowler et al. Let's initialize all qubits to the $|0\\rangle$ state, and then perform one full round of syndrome extraction. We'll keep this state as the one we want to preserve (called the \"quiescent\" state in the paper); let's double check that it is indeed a +1 eigenstate of the stabilizer generators.\n",
    "\n",
    "This method is also followed in http://info.phys.unm.edu/~alandahl/papers/jmp43_4452.pdf?fbclid=IwAR3XnFXFsdVkoUs9iCp0oA-ssHtflBFpPubNwNZxQ_BNvmjcCldh0xhd7mg, so let's see if we can get it to work here. "
   ]
  },
  {
   "cell_type": "code",
   "execution_count": 2,
   "metadata": {},
   "outputs": [],
   "source": [
    "# Let's construct a new graph, so we don't have conflicts with all of the above code\n",
    "qvm = QVMConnection() \n",
    "primal, dual, distance = construct_toric_code(3)"
   ]
  },
  {
   "cell_type": "code",
   "execution_count": 3,
   "metadata": {},
   "outputs": [],
   "source": [
    "primal_initial, primal_errors, dual_initial, dual_errors = simulate_error(primal, dual, p=0.0)"
   ]
  },
  {
   "cell_type": "code",
   "execution_count": null,
   "metadata": {},
   "outputs": [],
   "source": [
    "# Find the ancilla qubits that give |1> (-1) upon measurement\n",
    "# Find a path that goes through all of these nodes, and apply Z to every edge \n",
    "faulty_nodes = syndrome_extraction(primal, 3, primal_initial, \"X\")"
   ]
  }
 ],
 "metadata": {
  "kernelspec": {
   "display_name": "Python 3",
   "language": "python",
   "name": "python3"
  },
  "language_info": {
   "codemirror_mode": {
    "name": "ipython",
    "version": 3
   },
   "file_extension": ".py",
   "mimetype": "text/x-python",
   "name": "python",
   "nbconvert_exporter": "python",
   "pygments_lexer": "ipython3",
   "version": "3.7.2"
  }
 },
 "nbformat": 4,
 "nbformat_minor": 2
}
