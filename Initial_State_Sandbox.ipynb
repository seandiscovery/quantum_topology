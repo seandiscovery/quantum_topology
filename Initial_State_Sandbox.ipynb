{
 "cells": [
  {
   "cell_type": "markdown",
   "metadata": {},
   "source": [
    "# Construct an Appropriate Initial State: Sandbox"
   ]
  },
  {
   "cell_type": "code",
   "execution_count": 1,
   "metadata": {},
   "outputs": [],
   "source": [
    "from pyquil import Program\n",
    "from pyquil.gates import *\n",
    "from pyquil.quil import address_qubits\n",
    "from pyquil.quilatom import QubitPlaceholder\n",
    "from pyquil.api import QVMConnection\n",
    "from pyquil.api import WavefunctionSimulator\n",
    "\n",
    "import networkx as nx \n",
    "from toric_code import * "
   ]
  },
  {
   "cell_type": "markdown",
   "metadata": {},
   "source": [
    "Our sandbox for finding a way to correctly initialize the data qubits in our implementation of the toric code (that is, initialize the data qubits to the logical qubits state $\\bar{|0\\rangle}$). Not guaranteed to be free of errors or namespace conflicts. "
   ]
  },
  {
   "cell_type": "markdown",
   "metadata": {},
   "source": [
    "### Testing measurement circuits"
   ]
  },
  {
   "cell_type": "code",
   "execution_count": 2,
   "metadata": {},
   "outputs": [],
   "source": [
    "# Function to measure X stabilizers from toric_code.py, repeated here for convenience \n",
    "# Not that we don't perform the measurement yet, to double-check that the circuit behaves \n",
    "# as expected \n",
    "def X_syndrome_extraction(primal_qubits: List[QubitPlaceholder]) -> Program:\n",
    "    \"\"\" Runs the syndrome extraction circuit for the X-stabilizers.\n",
    "    Detects phase-flip errors on the lattice.\n",
    "\n",
    "    :param primal_qubits: List of ancilla and data qubits for the extraction.\n",
    "    We assume the following input format:\n",
    "            qubits = [ancilla, north, west, east, south]\n",
    "    where \"ancilla\" is the ancilla qubit on the vertex of the primal graph,\n",
    "    and \"north\", ... \"south\" are the data qubits to the north, ... south of\n",
    "    the ancilla qubit. We assume the ancilla is initialized to |0>.\n",
    "    :returns: Pyquil Program representing the syndrome extraction process\n",
    "    \"\"\"\n",
    "    pq = Program()\n",
    "    ro_X = pq.declare('ro', 'BIT', 1)  # Do we need to avoid namespace conflicts here?\n",
    "\n",
    "    # Initialize the ancilla\n",
    "    pq += H(primal_qubits[0])\n",
    "    # Perform the circuit\n",
    "    for i in range(1, len(primal_qubits)):\n",
    "        pq += CNOT(primal_qubits[0], primal_qubits[i])\n",
    "    # Measure in the X-basis\n",
    "    # UN-COMMENT TO PERFORM THE MEASUREMENT \n",
    "    #pq += H(primal_qubits[0])\n",
    "    #pq += MEASURE(primal_qubits[0], ro_X[0])\n",
    "\n",
    "    return pq"
   ]
  },
  {
   "cell_type": "code",
   "execution_count": 3,
   "metadata": {},
   "outputs": [
    {
     "name": "stdout",
     "output_type": "stream",
     "text": [
      "[<QubitPlaceholder 43539239432> <QubitPlaceholder 43539240552>\n",
      " <QubitPlaceholder 43539240608> <QubitPlaceholder 43539240720>\n",
      " <QubitPlaceholder 43539240832>]\n",
      "5\n"
     ]
    }
   ],
   "source": [
    "# Let's verify that the above measurement returns |11111> + |00000>, assuming the data qubits \n",
    "# begin in the state |0> \\tensor |0> ... \\tensor |0> \n",
    "qubits = np.array([])\n",
    "num_q = 5\n",
    "for q in range(num_q):\n",
    "    qubits = np.append(qubits, QubitPlaceholder())\n",
    "print(qubits)\n",
    "print(len(qubits))"
   ]
  },
  {
   "cell_type": "code",
   "execution_count": 4,
   "metadata": {},
   "outputs": [
    {
     "name": "stdout",
     "output_type": "stream",
     "text": [
      "(0.7071067812+0j)|00000> + (0.7071067812+0j)|11111>\n"
     ]
    }
   ],
   "source": [
    "initial_state = X_syndrome_extraction(qubits)\n",
    "initial_state = address_qubits(initial_state)\n",
    "wf_sim = WavefunctionSimulator()\n",
    "wavefunction = wf_sim.wavefunction(initial_state)\n",
    "print(wavefunction) # Returns exactly the wavefunction we expect, if no measurement is performed "
   ]
  },
  {
   "cell_type": "markdown",
   "metadata": {},
   "source": [
    "### Constructing the initialization function"
   ]
  },
  {
   "cell_type": "markdown",
   "metadata": {},
   "source": [
    "DEPRECATED in favor of ``mwpm`` algorithm (see below). "
   ]
  },
  {
   "cell_type": "code",
   "execution_count": 5,
   "metadata": {},
   "outputs": [],
   "source": [
    "def sample_without_replace(array, num_samples=2):\n",
    "    \"\"\" Given an array, samples num_samples values from the array \n",
    "    and removes these values from the array. \n",
    "    \"\"\"\n",
    "    # Step 1: Select a random source and root node from array \n",
    "    indices = np.linspace(0, len(array) - 1, num=len(array))\n",
    "    random_sample = np.random.choice(indices, size=num_samples, replace=False)\n",
    "    source_and_root = array[random_sample.astype(int)] # Gives source and root nodes \n",
    "    # Step 2: Delete selected source/root nodes from array \n",
    "    reduced_array = np.delete(array, random_sample.astype(int))\n",
    "    return source_and_root, reduced_array\n",
    "\n",
    "def contains_faulty(path, faulty_nodes):\n",
    "    \"\"\" Given a path as a list of nodes, and a list of faulty nodes, checks \n",
    "    whether path passes through any faulty nodes.\n",
    "    \"\"\"\n",
    "    pass "
   ]
  },
  {
   "cell_type": "code",
   "execution_count": 9,
   "metadata": {},
   "outputs": [
    {
     "name": "stdout",
     "output_type": "stream",
     "text": [
      "[ 5 10]\n",
      "[1 3 7]\n"
     ]
    }
   ],
   "source": [
    "# Testing our sample w/out replacement function \n",
    "test = np.array([1, 3, 5, 7, 10])\n",
    "faulty_nodes, reduced_test = sample_without_replace(test)\n",
    "print(faulty_nodes)\n",
    "print(reduced_test)"
   ]
  },
  {
   "cell_type": "code",
   "execution_count": null,
   "metadata": {},
   "outputs": [],
   "source": [
    "def return_one_chain(G, faulty_nodes):\n",
    "    \"\"\" Returns a list of edges corresponding to a one-chain with \n",
    "    faulty nodes on the boundary. Not guaranteed to return a valid one-chain. \n",
    "    \"\"\"\n",
    "    one_chain_edges = [] \n",
    "    all_faulty_nodes = faulty_nodes # Construct a copy of faulty_nodes that will not be reduced  \n",
    "    while len(faulty_nodes) > 1: \n",
    "        source_root, faulty_nodes = sample_without_replace(faulty_nodes)\n",
    "        path_generator = np.algorithms.simple_paths.all_simple_paths(G, source_root[0], source_root[1])\n",
    "        for path in path_generator: \n",
    "            # Check that no faulty nodes exist in this path \n",
    "            path_flag = False\n",
    "            if not contains_faulty(path, all_faulty_nodes): \n",
    "                # Path is valid! \n",
    "                # Convert list of nodes to list of edges \n",
    "                # path_edges = ... \n",
    "                one_chain_edges.append(path_edges)\n",
    "                path_flag = True \n",
    "                break\n",
    "        if not path_flag: \n",
    "            return False # We have not found a valid path between last source/root tried \n",
    "     \n",
    "    if len(faulty_nodes) % 2 == 0:\n",
    "        # Even number of faulty nodes, so we're done \n",
    "        return one_chain_edges\n",
    "    # If the above statement doesn't execute, we have an odd number of faulty nodes; \n",
    "    # select a random non-faulty node, and find a path between last faulty node \n",
    "    # and this non-faulty node, such that the path contains none of the other faulty nodes \n",
    "    # TODO: find an elegant way to implement this. For now, we assume an even number of faulty nodes \n",
    "    return None "
   ]
  },
  {
   "cell_type": "markdown",
   "metadata": {},
   "source": [
    "## Using MWPM to construct the initial state"
   ]
  },
  {
   "cell_type": "code",
   "execution_count": 15,
   "metadata": {},
   "outputs": [],
   "source": [
    "def initialize_toric_code(primal, dual, distance, L, trials=100):\n",
    "    # A hacky way to ensure the initialization works: \n",
    "    # run the syndrome extraction until we return an even \n",
    "    # number of errors (okay for small graphs)\n",
    "    for t in range(trials):\n",
    "        # Set up programs, and reset qubits if needed \n",
    "        # Does this work? \n",
    "        primal_initial = Program() + RESET()\n",
    "        dual_initial = Program() + RESET()\n",
    "        # Perform syndrome extraction on primal and dual graphs \n",
    "        primal_faulty_nodes = syndrome_extraction(primal, L, primal_initial, \"X\")\n",
    "        dual_faulty_nodes = syndrome_extraction(dual, L, dual_initial, \"Z\")\n",
    "        test = (len(primal_faulty_nodes) % 2 == 0) and (len(dual_faulty_nodes) % 2 == 0)\n",
    "        if test: \n",
    "            break\n",
    "        \n",
    "    assert test, \"Failed to find even number of faulty nodes for primal and dual graphs\"\n",
    "    # With an even number of faulty nodes, we can now run the mwpm algorithm \n",
    "    # and correct the -1 eigenvalues \n",
    "    primal_correction_paths = mwpm(primal, distance, L, primal_faulty_nodes)\n",
    "    dual_correction_paths = mwpm(dual, distance, L, dual_faulty_nodes)\n",
    "    \n",
    "    # Construct pyquil program to carry out corrections \n",
    "    primal_correct_pq = apply_operation(primal_correction_paths, primal, Z)\n",
    "    dual_correct_pq = apply_operation(dual_correction_paths, dual, X)\n",
    "    \n",
    "    # Run the correction program \n",
    "    qvm = QVMConnection() \n",
    "    primal_correct_pq = address_qubits(primal_correct_pq)\n",
    "    #dual_correct_pq = address_qubits(dual_correct_pq)\n",
    "    results = qvm.run(primal_correct_pq)\n",
    "    return primal_correct_pq, results"
   ]
  },
  {
   "cell_type": "code",
   "execution_count": 16,
   "metadata": {},
   "outputs": [
    {
     "name": "stdout",
     "output_type": "stream",
     "text": [
      "Z 0\n",
      "Z 1\n",
      "Z 2\n",
      "Z 3\n",
      "\n"
     ]
    }
   ],
   "source": [
    "# Let's test the initialization function \n",
    "# NOTE that we shouldn't need to do anything to the dual graph \n",
    "# (that is, the dual graph's program will be empty), since clearly we cannot \n",
    "# introduce errors to the plaquette operators with the X-syndrome measurement \n",
    "# circuits given in our literature review \n",
    "L = 3\n",
    "primal, dual, distance = construct_toric_code(L)\n",
    "primal_pq, results = initialize_toric_code(primal, dual, distance, L)\n",
    "print(primal_pq)"
   ]
  },
  {
   "cell_type": "code",
   "execution_count": 4,
   "metadata": {},
   "outputs": [],
   "source": [
    "# Does flipping a qubit on the primal graph affect the same qubit on the dual graph? \n",
    "edge_test = ((0, 0), (1, 0))\n",
    "pq_test = Program()\n",
    "ro = pq_test.declare('ro', 'BIT', 2)\n",
    "\n",
    "flip_primal_qubit = primal.edges[edge_test][\"data_qubit\"] \n",
    "pq_test += X(flip_primal_qubit)\n",
    "pq_test += MEASURE(flip_primal_qubit, ro[0])\n",
    "\n",
    "flip_dual_qubit = dual.edges[dual_edge_to_primal_edge(edge_test, L)][\"data_qubit\"]\n",
    "pq_test += MEASURE(flip_dual_qubit, ro[1])"
   ]
  },
  {
   "cell_type": "code",
   "execution_count": 5,
   "metadata": {},
   "outputs": [
    {
     "name": "stdout",
     "output_type": "stream",
     "text": [
      "[[1, 0], [1, 0], [1, 0], [1, 0], [1, 0], [1, 0], [1, 0], [1, 0], [1, 0], [1, 0]]\n"
     ]
    }
   ],
   "source": [
    "# Run the program \n",
    "qvm = QVMConnection()\n",
    "pq_test = address_qubits(pq_test)\n",
    "result = qvm.run(pq_test, trials=10)\n",
    "print(result) # Looks like the answer is no, but this is OKAY because we can treat the primal and dual graphs \n",
    "# completely seperately! "
   ]
  },
  {
   "cell_type": "code",
   "execution_count": null,
   "metadata": {},
   "outputs": [],
   "source": []
  }
 ],
 "metadata": {
  "kernelspec": {
   "display_name": "Python 3",
   "language": "python",
   "name": "python3"
  },
  "language_info": {
   "codemirror_mode": {
    "name": "ipython",
    "version": 3
   },
   "file_extension": ".py",
   "mimetype": "text/x-python",
   "name": "python",
   "nbconvert_exporter": "python",
   "pygments_lexer": "ipython3",
   "version": "3.7.2"
  }
 },
 "nbformat": 4,
 "nbformat_minor": 2
}
